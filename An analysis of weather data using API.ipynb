{
 "cells": [
  {
   "cell_type": "markdown",
   "metadata": {},
   "source": [
    "#### Title: Retrieving weather information from Dark Sky's API ( [Dark Sky API](https://darksky.net/dev/)) using the requests library on python"
   ]
  },
  {
   "cell_type": "markdown",
   "metadata": {},
   "source": [
    "#### Author: Anuja Venkatachalam"
   ]
  },
  {
   "cell_type": "code",
   "execution_count": 27,
   "metadata": {},
   "outputs": [],
   "source": [
    "# Importing the requisite packages\n",
    "import requests\n",
    "import os\n",
    "from dotenv import load_dotenv"
   ]
  },
  {
   "cell_type": "code",
   "execution_count": null,
   "metadata": {},
   "outputs": [],
   "source": [
    "# Calling in the env file that has the API key\n",
    "load_dotenv()\n",
    "key=os.getenv('dark_sky')"
   ]
  },
  {
   "cell_type": "code",
   "execution_count": 26,
   "metadata": {},
   "outputs": [],
   "source": [
    "# Placing a request \n",
    "forecast_data=requests.get(\"https://api.darksky.net/forecast/\"+key+\"/60.1699,%2024.9384,2018-06-11T19:06:32?units=us\").json()"
   ]
  },
  {
   "cell_type": "code",
   "execution_count": 3,
   "metadata": {},
   "outputs": [
    {
     "name": "stdout",
     "output_type": "stream",
     "text": [
      "dict_keys(['latitude', 'longitude', 'timezone', 'currently', 'hourly', 'daily', 'flags', 'offset'])\n"
     ]
    }
   ],
   "source": [
    "# Printing the information available on the API\n",
    "print(forecast_data.keys())"
   ]
  },
  {
   "cell_type": "code",
   "execution_count": 4,
   "metadata": {},
   "outputs": [
    {
     "name": "stdout",
     "output_type": "stream",
     "text": [
      "{'time': 1528733192, 'summary': 'Clear', 'icon': 'clear-day', 'precipType': 'rain', 'temperature': 75.37, 'apparentTemperature': 75.37, 'dewPoint': 45.25, 'humidity': 0.34, 'windSpeed': 15.43, 'windBearing': 223, 'visibility': 6.22}\n"
     ]
    }
   ],
   "source": [
    "# Printing the current forecaset\n",
    "print(forecast_data[\"currently\"])"
   ]
  },
  {
   "cell_type": "code",
   "execution_count": 5,
   "metadata": {},
   "outputs": [
    {
     "name": "stdout",
     "output_type": "stream",
     "text": [
      "The current wind speed is 15.43\n",
      "The apparent and actual temperature are the same.\n"
     ]
    }
   ],
   "source": [
    "# Printing the current wind speed, and the difference between the apparent and actual temperatures\n",
    "\n",
    "print(f'The current wind speed is {forecast_data[\"currently\"][\"windSpeed\"]}')\n",
    "\n",
    "diff=(forecast_data[\"currently\"][\"apparentTemperature\"])-forecast_data[\"currently\"][\"temperature\"]\n",
    "if diff==0:\n",
    "    print(\"The apparent and actual temperature are the same.\")\n",
    "elif diff>0:\n",
    "    print(f\"It feels {diff}F warmer than it actually is.\")\n",
    "else:\n",
    "    print(f\"It feels {abs(diff)}F colder than it actually is.\")"
   ]
  },
  {
   "cell_type": "code",
   "execution_count": 6,
   "metadata": {},
   "outputs": [
    {
     "name": "stdout",
     "output_type": "stream",
     "text": [
      "The moon visibility for today is 0.91\n"
     ]
    }
   ],
   "source": [
    "# Printing the moon visibility for the day\n",
    "daily_forecast=forecast_data[\"daily\"][\"data\"]\n",
    "print(f'The moon visibility for today is {daily_forecast[0][\"moonPhase\"]}')"
   ]
  },
  {
   "cell_type": "code",
   "execution_count": 7,
   "metadata": {},
   "outputs": [
    {
     "name": "stdout",
     "output_type": "stream",
     "text": [
      "The difference between the highest and lowest temperatures for today is 22F.\n"
     ]
    }
   ],
   "source": [
    "# Printing the difference between the highest and lowest temperatures for the day.\n",
    "\n",
    "print(f'The difference between the highest and lowest temperatures for today is {int(daily_forecast[0][\"temperatureHigh\"])-int(daily_forecast[0][\"temperatureLow\"])}F.')"
   ]
  },
  {
   "cell_type": "code",
   "execution_count": null,
   "metadata": {},
   "outputs": [],
   "source": [
    "# Prining the next week's predictions\n",
    "count=-1\n",
    "for day in daily_forecast:\n",
    "    count=count+1\n",
    "    if count==0:\n",
    "        continue\n",
    "    if day[\"temperatureHigh\"]<60:\n",
    "        code=\"Cold\"\n",
    "    elif day[\"temperatureHigh\"]>=60 and day[\"temperatureHigh\"]<80:\n",
    "        code=\"Warm\"\n",
    "    else:\n",
    "        code=\"Hot\"\n",
    "    print(f'Day: {count} || Highest temperature: {day[\"temperatureHigh\"]:.2f}F || Classification: {code}')"
   ]
  },
  {
   "cell_type": "code",
   "execution_count": null,
   "metadata": {},
   "outputs": [],
   "source": [
    "# Identifying the hottest day next week"
   ]
  },
  {
   "cell_type": "code",
   "execution_count": 10,
   "metadata": {},
   "outputs": [
    {
     "name": "stdout",
     "output_type": "stream",
     "text": [
      "The hottest day next week will be 1528664400, and the hottest temperature will be 79.19\n"
     ]
    }
   ],
   "source": [
    "import datetime\n",
    "\n",
    "maximum=0\n",
    "for day in daily_forecast:\n",
    "    if day[\"temperatureHigh\"]>maximum:\n",
    "        maximum=day[\"temperatureHigh\"]\n",
    "        maximum_day=day[\"time\"]\n",
    "print(f\"The hottest day next week will be {maximum_day}, and the hottest temperature will be {maximum}\")"
   ]
  },
  {
   "cell_type": "code",
   "execution_count": 26,
   "metadata": {},
   "outputs": [
    {
     "name": "stdout",
     "output_type": "stream",
     "text": [
      "The percentage of hours (out of 24) that will have a temperature above 85 degrees F is expected to be 0.0%\n"
     ]
    }
   ],
   "source": [
    "# Identifying the percent of time the temperature will be above 85 degrees during the next 24 hours in Miami\n",
    "\n",
    "miami=requests.get(\"https://api.darksky.net/forecast/\"+key+\"/25.7617,-80.1918,2018-06-11T19:06:32?units=us\").json()\n",
    "\n",
    "hours_above=0\n",
    "for hours in miami[\"hourly\"][\"data\"]:\n",
    "    if hours[\"temperature\"]>85:\n",
    "        hours_above=hours_above+1\n",
    "\n",
    "print(f\"The percentage of hours (out of 24) that will have a temperature above 85 degrees F is expected to be {hours_above/24*100}%\")"
   ]
  },
  {
   "cell_type": "code",
   "execution_count": 36,
   "metadata": {},
   "outputs": [
    {
     "name": "stdout",
     "output_type": "stream",
     "text": [
      "The temperature on 2012-12-25 was 34.25 degrees F.\n",
      "The temperature on 2007-12-25 was 38.57 degrees F.\n",
      "The temperature on 2005-12-25 was 37.16 degrees F.\n"
     ]
    }
   ],
   "source": [
    "# Identifying the historic temperature in Central Park on Christmas Day\n",
    "dates=[\"2012-12-25\", \"2007-12-25\", \"2005-12-25\"]\n",
    "for date in dates:\n",
    "    new_york=requests.get(\"https://api.darksky.net/forecast/\"+key+\"/40.7829,-73.9654,\"+date+\"T00:00:00?units=us\").json()\n",
    "    print(f'The temperature on {date} was {new_york[\"currently\"][\"temperature\"]} degrees F.')"
   ]
  }
 ],
 "metadata": {
  "kernelspec": {
   "display_name": "Python 3",
   "language": "python",
   "name": "python3"
  },
  "language_info": {
   "codemirror_mode": {
    "name": "ipython",
    "version": 3
   },
   "file_extension": ".py",
   "mimetype": "text/x-python",
   "name": "python",
   "nbconvert_exporter": "python",
   "pygments_lexer": "ipython3",
   "version": "3.7.3"
  }
 },
 "nbformat": 4,
 "nbformat_minor": 1
}
